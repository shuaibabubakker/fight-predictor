{
 "cells": [
  {
   "cell_type": "code",
   "execution_count": 4,
   "metadata": {},
   "outputs": [],
   "source": [
    "import os\n",
    "from os import path\n",
    "import shutil\n",
    "\n",
    "Source_Path = '/Users/sarthakanil/Academic/Dataset/RWF-2000/val/Fight'\n",
    "Destination = '/Users/sarthakanil/Academic/Dataset/RWF-2000/val'\n",
    "#dst_folder = os.mkdir(Destination)\n",
    "\n",
    "\n",
    "def main():\n",
    "    for count, filename in enumerate(os.listdir(Source_Path)):\n",
    "        dst =  \"fi\" + str(count) + \".avi\"\n",
    "        \n",
    "        # rename all the files\n",
    "        os.rename(os.path.join(Source_Path, filename),  os.path.join(Destination, dst))\n",
    "        \n",
    "\n",
    "# Driver Code\n",
    "if __name__ == '__main__':\n",
    "    main()"
   ]
  },
  {
   "cell_type": "code",
   "execution_count": null,
   "metadata": {},
   "outputs": [],
   "source": []
  }
 ],
 "metadata": {
  "kernelspec": {
   "display_name": "Python 3 (ipykernel)",
   "language": "python",
   "name": "python3"
  },
  "language_info": {
   "codemirror_mode": {
    "name": "ipython",
    "version": 3
   },
   "file_extension": ".py",
   "mimetype": "text/x-python",
   "name": "python",
   "nbconvert_exporter": "python",
   "pygments_lexer": "ipython3",
   "version": "3.8.13"
  }
 },
 "nbformat": 4,
 "nbformat_minor": 4
}
